{
 "cells": [
  {
   "cell_type": "markdown",
   "metadata": {},
   "source": [
    "# Named Entity Recognition for Process Extraction with GoLLIE"
   ]
  },
  {
   "cell_type": "markdown",
   "metadata": {},
   "source": [
    "## Import requirements"
   ]
  },
  {
   "cell_type": "code",
   "execution_count": 1,
   "metadata": {},
   "outputs": [],
   "source": [
    "import sys\n",
    "sys.path.append(\"../\")"
   ]
  },
  {
   "cell_type": "code",
   "execution_count": null,
   "metadata": {},
   "outputs": [],
   "source": [
    "import rich\n",
    "import logging\n",
    "from src.model.load_model import load_model\n",
    "import black\n",
    "import inspect\n",
    "from jinja2 import Template\n",
    "import tempfile\n",
    "from src.tasks.utils_typing import AnnotationList\n",
    "logging.basicConfig(level=logging.INFO)\n",
    "from typing import Dict, List, Type"
   ]
  },
  {
   "cell_type": "markdown",
   "metadata": {},
   "source": [
    "### Load Model from HuggingFace"
   ]
  },
  {
   "cell_type": "code",
   "execution_count": null,
   "metadata": {},
   "outputs": [],
   "source": [
    "model, tokenizer = load_model(\n",
    "    inference=True,\n",
    "    model_weights_name_or_path=\"HiTZ/GoLLIE-7B\",\n",
    "    quantization=None,\n",
    "    use_lora=False,\n",
    "    force_auto_device_map=True,\n",
    "    use_flash_attention=True,\n",
    "    torch_dtype=\"bfloat16\"\n",
    ")"
   ]
  },
  {
   "cell_type": "markdown",
   "metadata": {},
   "source": [
    "### Define Guidelines for the Extraction of Process Elements from Medical Guidelines "
   ]
  },
  {
   "cell_type": "markdown",
   "metadata": {},
   "source": [
    "#### Simple Annotation Schema"
   ]
  },
  {
   "cell_type": "code",
   "execution_count": 4,
   "metadata": {},
   "outputs": [],
   "source": [
    "from typing import List\n",
    "\n",
    "from src.tasks.utils_typing import Entity, dataclass\n",
    "\n",
    "\"\"\"\n",
    "Entity definitions\n",
    "\"\"\"\n",
    "\n",
    "@dataclass\n",
    "class Observation(Entity):\n",
    "    \"\"\"An Observation refers to any piece of information or data that is noted or recorded about a patient's health status, this includes\n",
    "    symptoms, diagnoses, test results risk factors like smoking or contextual information like the age or conditions of the patient.\"\"\"\n",
    "    \n",
    "    span: str\n",
    "    \"\"\"\n",
    "    Such as: not possible to administer, distribution of 18-F-FDG, severe hypoxemia, reduced eGFR, Diabetes, hypercapnia, postoperative pain, prostate cancer, elderly\n",
    "    \"\"\"\n",
    "\n",
    "\n",
    "@dataclass\n",
    "class Activity(Entity):\n",
    "    \"\"\"An Activity refers to any action performed by a patient or a healthcare professional, this includes\n",
    "    tasks, procedures, surgeries, treatments, medication, or other types of interventions. Activities can also be events like start of the scan.\"\"\"\n",
    "    \n",
    "    span: str # Such as: eat, fasting, start, monitored, assessed, reviewed, performed, administered, prescribed, recommended, catheterization, filled, referred, continued, anesthesia\n",
    "\n",
    "@dataclass\n",
    "class Input(Entity):\n",
    "    \"\"\"An Input Entity refers to any word or phrase that denotes a specific type of clinical measurement, score, or value. \n",
    "    These include, but are not limited to, physiological measurements, lab test scores, and specific clinical indices. \n",
    "    The difference to the guard is that it not represents specific numerical values or thresholds related but the category of the measurement or value for example\n",
    "    Blood Pressure, Heart Rate, PEEP, Pmean or PaO2/FiO2. \n",
    "    \"\"\"\n",
    "\n",
    "    span: str # Such as: pH, Blood Pressure, Heart Rate, PEEP, Pmean or PaO2/FiO2, retention, distribution, eGFR, se-creatinine, sizes\n",
    "\n",
    "@dataclass\n",
    "class Output(Entity):\n",
    "    \"\"\"An Input Entity refers to any word or phrase that denotes a specific type of clinical measurement, score, or value. \n",
    "    These include, but are not limited to, physiological measurements, lab test scores, and specific clinical indices. \n",
    "    The difference to the guard is that it not represents specific numerical values or thresholds related but the category of the measurement or value for example\n",
    "    Blood Pressure, Heart Rate, PEEP, Pmean or PaO2/FiO2. \n",
    "    \"\"\"\n",
    "\n",
    "    span: str # Such as: pH, Blood Pressure, Heart Rate, PEEP, Pmean or PaO2/FiO2, retention, distribution, eGFR, se-creatinine, sizes\n",
    "\n",
    "@dataclass\n",
    "class Actor(Entity):\n",
    "    \"\"\"An Actor refers to any person or entity that is involved in an activity, this includes\n",
    "    patients, doctors, nurses, or other healthcare professionals. Actors can perform activites or be the target of activities.\"\"\"\n",
    "    \n",
    "    span: str # Such as: patients, patient, doctor, pt., anesthesiologist, \n",
    "\n",
    "@dataclass\n",
    "class ActivityData(Entity):\n",
    "    \"\"\"An ActivityData entity refers to the data or object directly used by an activity, this includes devices, medications, objects. \n",
    "    This could be for example an injection or a scan or insuline.\"\"\"\n",
    "    \n",
    "    span: str # Such as: flow and residual urine, insuline, bladder, an appointment, tablet paracetamol, antidiabetic medication\n",
    "\n",
    "@dataclass\n",
    "class Specification(Entity):\n",
    "    \"\"\"A Specification entity refers to any information that further describes an activity, this includes\n",
    "    the time, the location, the dosage, the quantity, the frequency, the duration, additional information or the type of the activity.\n",
    "    Specifications are often linked with prepositions like for example at, to, in, into, on, for, with, within, while, as, according to, across, after, by, during, for, over, when, where.\"\"\"\n",
    "    \n",
    "    span: str # Such as: between the first and second tracheal, long-term, acute phase, outpatient clinic, saline, elsewhere in the body, following afternoon\n",
    "\n",
    "@dataclass\n",
    "class Guard(Entity):\n",
    "    \"\"\"A Guard refers to a specific type of information that sets conditions, limits, or thresholds in the clinical context. \n",
    "    These entities often represent critical values or timeframes that impact clinical decisions, such as dosage limits, duration of treatment, or thresholds for test results.\n",
    "    This can include measurements (like volume or concentration), timeframes (like durations or frequencies), or any other quantifiable condition that affects clinical decisions.\"\"\"\n",
    "    \n",
    "    span: str # after 1 week, >1000 ml, <1000 ml, at least 2 hours, for 6 hours, < 45\n",
    "\n",
    "@dataclass\n",
    "class PurposeOutcome(Entity):\n",
    "    \"\"\"A PurposeOutcome entity captures the underlying reason, goal, objective, or anticipated result of a clinical action, procedure, or recommendation. \n",
    "    It addresses the \"why\" or the intended effect of a medical intervention or guideline. Examples would be: to reduce the risk of stroke or so that the patient can sleep better.\n",
    "    The PurposeOutcome entity is often connected with prepositions like for, to, in order to, so that, to ensure, because maybe or because of.\"\"\"\n",
    "\n",
    "    span: str # adequate bladder volume, \n",
    "\n",
    "@dataclass\n",
    "class And(Entity):\n",
    "    \"\"\"An And entity connects two or more activities that are linked by the conjunction \"and.\" This entity indicates that all linked activities are required or occur in conjunction.\n",
    "       Primarily used in scenarios where multiple steps or conditions are simultaneously necessary. For instance, in a treatment plan, if multiple treatment activities need to be executed together.\n",
    "    \"\"\"\n",
    "\n",
    "    span: str # Such as: and, &, +, as well as\n",
    "\n",
    "@dataclass\n",
    "class Or(Entity):\n",
    "    \"\"\"An Or entity links two or more activities or options, using the conjunction \"or.\" \n",
    "    It signifies that any one of the linked activities or observations may be chosen or is applicable, but not necessarily all.\n",
    "    Useful in cases where multiple options are available, and the choice of one excludes the others. Often seen in treatment plans where alternative activities are viable.\"\"\"\n",
    "\n",
    "    span: str # Such as: or, /, \n",
    "\n",
    "@dataclass\n",
    "class Xor(Entity):\n",
    "    \"\"\"An Xor (exclusive or) entity connects two or more mutually exclusive activities, actions, tasks or observations, using the concept of \"xor.\" \n",
    "    It implies that only one of the linked activities can be chosen or applies, and selecting one excludes the others.\n",
    "    Applied in situations where two or more options are available but are mutually exclusive. It's critical in scenarios where the selection of one option inherently rules out the others.\n",
    "    \"\"\"\n",
    "\n",
    "    span: str \n",
    "\n",
    "@dataclass\n",
    "class RelationResponse(Entity):\n",
    "    \"\"\"A RelationResponse entity captures the relationship between two activties or an observation and a activity which need to be executed. So after executing the first activity the second activity must be exectued.\n",
    "    The RelationResponse entity can therefore be for example action A and requires action B, observation A: administer drug B. \n",
    "    \"\"\"\n",
    "\n",
    "    span: str # can be repeated, and requires, whether, during this period, in case of, must\n",
    "\n",
    "@dataclass\n",
    "class RelationCondition(Entity):\n",
    "    \"\"\"A RelationCondition entity captures the relationship between two activties or an observation and a activity which need to be executed in a specific order. So action B can only be executed after action A.\n",
    "    Activity B could for instance be “Prescribe medicin”. For that to happen a medical examination has to take place, which could be activity A.\n",
    "    The RelationCondition entity can therefore be for example \"in cases where\" so \"use infusion fluid only in cases where the patient is dehydrated\" or \"before\" so \"before prescribing medication, perform a medical examination\".\n",
    "    \"\"\"\n",
    "\n",
    "    span: str # Such as: and finally, when, followed by, after, during this period, :, before, until\n",
    "\n",
    "@dataclass\n",
    "class RelationExclusion(Entity):\n",
    "    \"\"\"A RelationExclusion entity caputres the relationship between two activities or an observation and an activity where one is excluding the other. \n",
    "    Examples for the RelationExclusion entity would be for example not routinely recommmended, or should not be, if observation activity is not possible.\"\"\"\n",
    "\n",
    "    span: str # Such as: must not, not suitable, should not\n",
    "\n",
    "@dataclass\n",
    "class RelationInclusion(Entity):\n",
    "    \"\"\"A RelationInclusion entity captures the relationship between two activities or an observation and an activity where one is including the other. For example blood tests are not required unless\n",
    "    observation A is true. The RelationInclusion entity can therefore be for example \"unless\" so \"blood tests are not required unless observation A is true\" \n",
    "    or \"if\" so \"if observation A is true, then blood tests are required\".\"\"\"\n",
    "\n",
    "    span: str\n",
    "\n",
    "ENTITY_DEFINITIONS: List[Entity] = [\n",
    "    Observation,\n",
    "    Activity,\n",
    "    Input,\n",
    "    Output,\n",
    "    Actor,\n",
    "    ActivityData,\n",
    "    Specification,\n",
    "    Guard,\n",
    "    PurposeOutcome,\n",
    "    And,\n",
    "    Or,\n",
    "    Xor,\n",
    "    RelationResponse,\n",
    "    RelationCondition,\n",
    "    RelationExclusion,\n",
    "    RelationInclusion\n",
    "]\n",
    "\n",
    "if __name__ == \"__main__\":\n",
    "    cell_text = In[-1]\n"
   ]
  },
  {
   "cell_type": "markdown",
   "metadata": {},
   "source": [
    "Due to IPython limitations, we must write the content of the previous cell to a file and then import the content from that file."
   ]
  },
  {
   "cell_type": "code",
   "execution_count": null,
   "metadata": {},
   "outputs": [],
   "source": [
    "with open(\"guidelines.py\",\"w\",encoding=\"utf8\") as python_guidelines:\n",
    "    print(cell_txt,file=python_guidelines)\n",
    "\n",
    "from guidelines import *"
   ]
  },
  {
   "cell_type": "markdown",
   "metadata": {},
   "source": [
    "We use inspect.getsource to get the guidelines as a string"
   ]
  },
  {
   "cell_type": "code",
   "execution_count": null,
   "metadata": {},
   "outputs": [],
   "source": [
    "guidelines = [inspect.getsource(definition) for definition in ENTITY_DEFINITIONS]"
   ]
  },
  {
   "cell_type": "markdown",
   "metadata": {},
   "source": [
    "### Load input sentences"
   ]
  },
  {
   "cell_type": "code",
   "execution_count": null,
   "metadata": {},
   "outputs": [],
   "source": [
    "text = \"During this period, the patient should only drink tap water Non-insulin-dependent diabetes: * The patient must not take their antidiabetic medication in the morning and follow the usual guidelines, i.e. fasting for 6 hours before the start of the scan, after the scan the patient can eat and take their antidiabetic medication as usual\"\n",
    "gold = [\n",
    "    RelationResponse(span= \"During this period\"),\n",
    "    Actor(span= \"patient\"),\n",
    "    Activity(span= \"drink\"),\n",
    "    ActivityData(span= \"tap water\"),\n",
    "    Observation(span= \"Non-insulin-dependent diabetes\"),\n",
    "    Actor(span= \"patient\"),\n",
    "    RelationExclusion(span= \"must not\"),\n",
    "    Activity(span= \"take\"),\n",
    "    ActivityData(span= \"antidiabetic medication\"),\n",
    "    Specification(span= \"in the morning\"),\n",
    "    Activity(span= \"follow\"),\n",
    "    ActivityData(span= \"usual guidelines\"),\n",
    "    Activity(span=\"fasting\"),\n",
    "    Guard(span= \"for 6 hours\"),\n",
    "    Activity(span= \"start\"),\n",
    "    ActivityData(span= \"scan\"),\n",
    "    RelationCondition(span= \"after\"),\n",
    "    Actor(span= \"patient\"),\n",
    "    Activity(span= \"scan\"),\n",
    "    Activity(span= \"eat\"),\n",
    "    Activity(span= \"take\"),\n",
    "    ActivityData(span= \"antidiabetic medication\"),\n",
    "    Specification(span= \"as usual\")\n",
    "]\n"
   ]
  },
  {
   "cell_type": "markdown",
   "metadata": {},
   "source": [
    "#### Filling a template"
   ]
  },
  {
   "cell_type": "code",
   "execution_count": null,
   "metadata": {},
   "outputs": [],
   "source": [
    "# Read template\n",
    "with open(\"../templates/prompt_medical.txt\", \"rt\") as f:\n",
    "    template = Template(f.read())\n",
    "# Fill the template\n",
    "formated_text = template.render(guidelines=guidelines, text=text, annotations=gold, gold=gold)\n"
   ]
  },
  {
   "cell_type": "markdown",
   "metadata": {},
   "source": [
    "### Black Code Formatter"
   ]
  },
  {
   "cell_type": "code",
   "execution_count": null,
   "metadata": {},
   "outputs": [],
   "source": [
    "black_mode = black.Mode()\n",
    "formated_text = black.format_str(formated_text, mode=black_mode)"
   ]
  },
  {
   "cell_type": "markdown",
   "metadata": {},
   "source": [
    "#### Print the filled and formatted template"
   ]
  },
  {
   "cell_type": "code",
   "execution_count": null,
   "metadata": {},
   "outputs": [],
   "source": [
    "rich.print(formated_text)"
   ]
  },
  {
   "cell_type": "markdown",
   "metadata": {},
   "source": [
    "### Prepare model inputs"
   ]
  },
  {
   "cell_type": "code",
   "execution_count": null,
   "metadata": {},
   "outputs": [],
   "source": [
    "prompt, _ = formated_text.split(\"result =\")\n",
    "prompt = prompt + \"result =\""
   ]
  },
  {
   "cell_type": "markdown",
   "metadata": {},
   "source": [
    "Tokenize the input sentences"
   ]
  },
  {
   "cell_type": "code",
   "execution_count": null,
   "metadata": {},
   "outputs": [],
   "source": [
    "model_input = tokenizer(prompt, add_special_tokens=True, return_tensors=\"pt\")"
   ]
  },
  {
   "cell_type": "markdown",
   "metadata": {},
   "source": [
    "Remove the eos token from the input"
   ]
  },
  {
   "cell_type": "code",
   "execution_count": null,
   "metadata": {},
   "outputs": [],
   "source": [
    "model_input[\"input_ids\"] = model_input[\"input_ids\"][:, :-1]\n",
    "model_input[\"attention_mask\"] = model_input[\"attention_mask\"][:, :-1]"
   ]
  },
  {
   "cell_type": "markdown",
   "metadata": {},
   "source": [
    "## Run GoLLIE\n",
    "\n",
    "Now we generate the predictions with GoLLIE\n",
    "We use num_beams=1 and do_sample=False in our exmperiments."
   ]
  },
  {
   "cell_type": "code",
   "execution_count": null,
   "metadata": {},
   "outputs": [],
   "source": [
    "%%time\n",
    "\n",
    "model_ouput = model.generate(\n",
    "    **model_input.to(model.device),\n",
    "    max_new_tokens=128,\n",
    "    do_sample=False,\n",
    "    min_new_tokens=0,\n",
    "    num_beams=1,\n",
    "    num_return_sequences=1,\n",
    ")"
   ]
  },
  {
   "cell_type": "markdown",
   "metadata": {},
   "source": [
    "### Print the results"
   ]
  },
  {
   "cell_type": "code",
   "execution_count": null,
   "metadata": {},
   "outputs": [],
   "source": [
    "for y, x in enumerate(model_ouput):\n",
    "    print(f\"Answer {y}\")\n",
    "    rich.print(tokenizer.decode(x,skip_special_tokens=True).split(\"result = \")[-1])"
   ]
  },
  {
   "cell_type": "markdown",
   "metadata": {},
   "source": [
    "### Parse the output"
   ]
  },
  {
   "cell_type": "code",
   "execution_count": null,
   "metadata": {},
   "outputs": [],
   "source": [
    "result = AnnotationList.from_output(\n",
    "    tokenizer.decode(model_ouput[0],skip_special_tokens=True).split(\"result = \")[-1],\n",
    "    task_module=\"guidelines\"\n",
    "    )\n",
    "rich.print(result)"
   ]
  },
  {
   "cell_type": "markdown",
   "metadata": {},
   "source": [
    "## Evaluate the results\n",
    "First, we define an Scorer, for Named Entity Recognition, we will use the SpanScorer class.\n",
    "\n",
    "We need to define the valid_types for the scorer, which will be the labels that we have defined"
   ]
  },
  {
   "cell_type": "code",
   "execution_count": null,
   "metadata": {},
   "outputs": [],
   "source": [
    "from src.tasks.utils_scorer import SpanScorer\n",
    "\n",
    "class MyEntityScorer(SpanScorer):\n",
    "    \"\"\"Compute the F1 score for Named Entity Recogtion Tasks\"\"\"\n",
    "\n",
    "    valid_types: List[Type] = ENTITY_DEFINITIONS\n",
    "\n",
    "    def __call__(self, reference: List[Entity], predictions: List[Entity]) -> Dict[str, Dict[str, float]]:\n",
    "        output = super().__call__(reference, predictions)\n",
    "        return {\"entities\": output[\"spans\"]}"
   ]
  },
  {
   "cell_type": "markdown",
   "metadata": {},
   "source": [
    "#### Initialize the scorer"
   ]
  },
  {
   "cell_type": "code",
   "execution_count": null,
   "metadata": {},
   "outputs": [],
   "source": [
    "scorer = MyEntityScorer()"
   ]
  },
  {
   "cell_type": "markdown",
   "metadata": {},
   "source": [
    "#### Compute F1"
   ]
  },
  {
   "cell_type": "code",
   "execution_count": null,
   "metadata": {},
   "outputs": [],
   "source": [
    "\n",
    "scorer_results = scorer(reference=[gold],predictions=[result])\n",
    "rich.print(scorer_results)"
   ]
  }
 ],
 "metadata": {
  "kernelspec": {
   "display_name": "GoLLIEProcessExtraction-3s3wp-IS",
   "language": "python",
   "name": "python3"
  },
  "language_info": {
   "codemirror_mode": {
    "name": "ipython",
    "version": 3
   },
   "file_extension": ".py",
   "mimetype": "text/x-python",
   "name": "python",
   "nbconvert_exporter": "python",
   "pygments_lexer": "ipython3",
   "version": "3.9.17"
  }
 },
 "nbformat": 4,
 "nbformat_minor": 2
}
